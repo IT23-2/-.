{
 "cells": [
  {
   "cell_type": "code",
   "execution_count": null,
   "id": "9bda8ce0",
   "metadata": {},
   "outputs": [],
   "source": [
    "l1 = ['1', '123', '123', '12', '1', '123']\n",
    "l2 = [2, 4, -2, -3, 0 , 11 , 3, -1]\n",
    "d4 = {1: 10, 2: 20, 3: 30, 4: 40, 5: 50, 6: 60}\n",
    "d5 = {'a': 3, 'b': 4, 'c': 5, 'd': 6, 'e': 7, 'f': 8, 'g': 9}\n",
    "d6 = {'e': 20, 'f': 21, 'g': 22, 'h': 23, 'i': 24, 'j': 25, 'k': 26, 'l': 27}"
   ]
  },
  {
   "cell_type": "code",
   "execution_count": null,
   "id": "7435f761",
   "metadata": {},
   "outputs": [],
   "source": [
    "#1\n",
    "print([len(i) for i in ['1', '123', '123', '12', '1', '123']])\n",
    "[1, 3, 3, 2, 1, 3]"
   ]
  },
  {
   "cell_type": "code",
   "execution_count": null,
   "id": "abed74a7",
   "metadata": {},
   "outputs": [],
   "source": [
    "#2\n",
    "print(len([len(i) for i in ['1', '123', '123', '12', '1', '123'] if len(i) > 2]))"
   ]
  },
  {
   "cell_type": "code",
   "execution_count": null,
   "id": "146a36da",
   "metadata": {},
   "outputs": [],
   "source": [
    "#3\n",
    "print([i * i_count for i_count, i in enumerate([2, 4, -2, -3, 0 , 11 , 3, -1])])\n",
    "[0, 4, -4, -9, 0, 55, 18, -7]"
   ]
  },
  {
   "cell_type": "code",
   "execution_count": null,
   "id": "e520a6d9",
   "metadata": {},
   "outputs": [],
   "source": [
    "#4\n",
    "print([i for i in [2, 4, -2, -3, 0 , 11 , 3, -1] if i > -1])"
   ]
  },
  {
   "cell_type": "code",
   "execution_count": null,
   "id": "8c17e1e8",
   "metadata": {},
   "outputs": [],
   "source": [
    "#5\n",
    "print([i if i >= 0 else i_count for i_count, i in enumerate([2, 4, -2, -3, 0 , 11 , 3, -1])])"
   ]
  },
  {
   "cell_type": "code",
   "execution_count": null,
   "id": "a53b3350",
   "metadata": {},
   "outputs": [],
   "source": [
    "#6\n",
    "print({i + 1:j for i, j in enumerate('abcdef')})\n",
    "{1: 'a', 2: 'b', 3: 'c', 4: 'd', 5: 'e', 6: 'f'}"
   ]
  },
  {
   "cell_type": "code",
   "execution_count": null,
   "id": "12275573",
   "metadata": {},
   "outputs": [],
   "source": [
    "#8\n",
    "print({i:'aabcdettm'.count(i) for i in 'aabcdettm'})\n",
    "{'a': 2, 'b': 1, 'c': 1, 'd': 1, 'e': 1, 't': 2, 'm': 1}"
   ]
  }
 ],
 "metadata": {
  "kernelspec": {
   "display_name": "Python 3 (ipykernel)",
   "language": "python",
   "name": "python3"
  },
  "language_info": {
   "codemirror_mode": {
    "name": "ipython",
    "version": 3
   },
   "file_extension": ".py",
   "mimetype": "text/x-python",
   "name": "python",
   "nbconvert_exporter": "python",
   "pygments_lexer": "ipython3",
   "version": "3.11.4"
  }
 },
 "nbformat": 4,
 "nbformat_minor": 5
}
