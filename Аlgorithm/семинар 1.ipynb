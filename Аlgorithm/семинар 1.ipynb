{
 "cells": [
  {
   "cell_type": "code",
   "execution_count": 1,
   "id": "78a2e824",
   "metadata": {},
   "outputs": [
    {
     "name": "stdout",
     "output_type": "stream",
     "text": [
      "[1, 3, 3, 2, 1, 3]\n"
     ]
    }
   ],
   "source": [
    "#1\n",
    "l1 = ['1', '123', '123', '12', '1', '123']\n",
    "print([len(i) for i in l1])\n"
   ]
  },
  {
   "cell_type": "code",
   "execution_count": 11,
   "id": "8ea1fcb2",
   "metadata": {},
   "outputs": [
    {
     "name": "stdout",
     "output_type": "stream",
     "text": [
      "3\n"
     ]
    }
   ],
   "source": [
    "#2\n",
    "l1 = ['1', '123', '123', '12', '1', '123']\n",
    "print(len([len(i) for i in l1 if len(i) > 2]))\n"
   ]
  },
  {
   "cell_type": "code",
   "execution_count": 13,
   "id": "33af3893",
   "metadata": {},
   "outputs": [
    {
     "name": "stdout",
     "output_type": "stream",
     "text": [
      "[0, 4, -4, -9, 0, 55, 18, -7]\n"
     ]
    }
   ],
   "source": [
    "#3\n",
    "l2 = [2, 4, -2, -3, 0 , 11 , 3, -1]\n",
    "print([i * i_count for i_count, i in enumerate(l2)])"
   ]
  },
  {
   "cell_type": "code",
   "execution_count": 14,
   "id": "a6c95759",
   "metadata": {},
   "outputs": [
    {
     "name": "stdout",
     "output_type": "stream",
     "text": [
      "[2, 4, 0, 11, 3]\n"
     ]
    }
   ],
   "source": [
    "#4\n",
    "l2 = [2, 4, -2, -3, 0 , 11 , 3, -1]\n",
    "print([i for i in l2 if i >= 0])"
   ]
  },
  {
   "cell_type": "code",
   "execution_count": 15,
   "id": "8f5763a0",
   "metadata": {},
   "outputs": [
    {
     "name": "stdout",
     "output_type": "stream",
     "text": [
      "[2, 4, 2, 3, 0, 11, 3, 7]\n"
     ]
    }
   ],
   "source": [
    "#5\n",
    "print([i if i >= 0 else i_count for i_count, i in enumerate(l2)])"
   ]
  },
  {
   "cell_type": "code",
   "execution_count": 25,
   "id": "e17cc741",
   "metadata": {},
   "outputs": [
    {
     "name": "stdout",
     "output_type": "stream",
     "text": [
      "{1: 'a', 2: 'b', 3: 'c', 4: 'd', 5: 'e', 6: 'f'}\n"
     ]
    }
   ],
   "source": [
    "#6\n",
    "ex_dict = 'abcdef'\n",
    "print({i_count + 1: i for i_count, i in enumerate(ex_dict)})"
   ]
  },
  {
   "cell_type": "code",
   "execution_count": null,
   "id": "dac1823d",
   "metadata": {},
   "outputs": [],
   "source": [
    "#7\n"
   ]
  },
  {
   "cell_type": "code",
   "execution_count": 30,
   "id": "acd26d88",
   "metadata": {},
   "outputs": [
    {
     "name": "stdout",
     "output_type": "stream",
     "text": [
      "Counter({'b': 3, 'A': 2, 'a': 2, 'c': 1})\n"
     ]
    }
   ],
   "source": [
    "#8\n",
    "from collections import Counter\n",
    "\n",
    "\n",
    "evgene_o = 'AAaabbbc'\n",
    "new_d = Counter(evgene_o)\n",
    "print(new_d)"
   ]
  },
  {
   "cell_type": "code",
   "execution_count": 28,
   "id": "253658cf",
   "metadata": {},
   "outputs": [
    {
     "name": "stdout",
     "output_type": "stream",
     "text": [
      "3\n"
     ]
    }
   ],
   "source": [
    "#9\n",
    "print(len([i for i in new_d.keys() if i.islower()]))"
   ]
  },
  {
   "cell_type": "code",
   "execution_count": 32,
   "id": "27f8afc5",
   "metadata": {},
   "outputs": [
    {
     "name": "stdout",
     "output_type": "stream",
     "text": [
      "910\n"
     ]
    }
   ],
   "source": [
    "#10\n",
    "d4 = {1: 10, 2: 20, 3: 30, 4: 40, 5: 50, 6: 60}\n",
    "\n",
    "print(sum([i * j for i, j in d4.items()]))"
   ]
  },
  {
   "cell_type": "code",
   "execution_count": 45,
   "id": "c5db7a68",
   "metadata": {},
   "outputs": [
    {
     "name": "stdout",
     "output_type": "stream",
     "text": [
      "1764355649344\n",
      "1764355649344\n",
      "1764355649344\n",
      "([2],)\n"
     ]
    }
   ],
   "source": [
    "#11\n",
    "d6 = {'e': 20, 'f': 21, 'g': 22, 'h': 23, 'i': 24, 'j': 25, 'k': 26, 'l': 27}"
   ]
  },
  {
   "cell_type": "code",
   "execution_count": null,
   "id": "fbc3dc23",
   "metadata": {},
   "outputs": [],
   "source": []
  }
 ],
 "metadata": {
  "kernelspec": {
   "display_name": "Python 3 (ipykernel)",
   "language": "python",
   "name": "python3"
  },
  "language_info": {
   "codemirror_mode": {
    "name": "ipython",
    "version": 3
   },
   "file_extension": ".py",
   "mimetype": "text/x-python",
   "name": "python",
   "nbconvert_exporter": "python",
   "pygments_lexer": "ipython3",
   "version": "3.10.9"
  }
 },
 "nbformat": 4,
 "nbformat_minor": 5
}
