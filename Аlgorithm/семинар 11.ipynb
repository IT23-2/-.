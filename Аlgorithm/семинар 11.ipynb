{
 "cells": [
  {
   "cell_type": "code",
   "execution_count": null,
   "id": "b20a16db",
   "metadata": {},
   "outputs": [],
   "source": [
    "import csv\n",
    "\n",
    "def stat():\n",
    "    statistic = {}  # Создаем словарь для хранения статистики слов\n",
    "    words_list = []  # Создаем список для хранения всех слов из файла\n",
    "    res = []  # Создаем список для хранения результата\n",
    "    file_name = None  # Имя файла по умолчанию - пустое значение\n",
    "\n",
    "    def srt(arg):\n",
    "        return arg[1]  # Функция для сортировки по второму элементу кортежа\n",
    "\n",
    "    while True:\n",
    "        file_name = input()  # Запрашиваем у пользователя ввод имени файла\n",
    "        if file_name == '':  # Если введена пустая строка, завершаем цикл\n",
    "            break\n",
    "        with open(file_name, 'r', encoding='utf-8') as f:  # Открываем файл для чтения\n",
    "            for line in f:  # Итерируем по строкам файла\n",
    "                for word in line.split():  # Разбиваем строку на слова\n",
    "                    words_list.append(word.strip('\\n!.?,'))  # Добавляем слово в список, удаляя знаки пунктуации\n",
    "\n",
    "        for word in words_list[:100]:  # Итерируем по первым 100 словам\n",
    "            statistic[word] = statistic.get(word, 0) + 1  # Обновляем статистику слов\n",
    "\n",
    "        for item in statistic.items():  # Итерируем по парам ключ-значение в словаре статистики\n",
    "            res.append(item)  # Добавляем пару в список результата\n",
    "\n",
    "    print('Введите имя создаваемого файла:')\n",
    "    with open(str(input()), 'w', newline='') as csvfile:  # Открываем файл для записи\n",
    "        writer = csv.writer(csvfile)  # Создаем объект для записи CSV\n",
    "        writer.writerows(res)  # Записываем данные в файл\n",
    "\n",
    "stat()  # Вызываем функцию stat()"
   ]
  }
 ],
 "metadata": {
  "kernelspec": {
   "display_name": "Python 3 (ipykernel)",
   "language": "python",
   "name": "python3"
  },
  "language_info": {
   "codemirror_mode": {
    "name": "ipython",
    "version": 3
   },
   "file_extension": ".py",
   "mimetype": "text/x-python",
   "name": "python",
   "nbconvert_exporter": "python",
   "pygments_lexer": "ipython3",
   "version": "3.11.4"
  }
 },
 "nbformat": 4,
 "nbformat_minor": 5
}
