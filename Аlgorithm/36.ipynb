{
 "cells": [
  {
   "cell_type": "markdown",
   "id": "c760ecea",
   "metadata": {},
   "source": [
    "### Реализовать функцию, которая находит сумму всех элементов двусвязного списка, удовлетворяющих заданному условию."
   ]
  },
  {
   "cell_type": "code",
   "execution_count": 1,
   "id": "5de3b667",
   "metadata": {},
   "outputs": [
    {
     "name": "stdout",
     "output_type": "stream",
     "text": [
      "9\n",
      "3\n"
     ]
    }
   ],
   "source": [
    "# 36\n",
    "class Node:\n",
    "    def __init__(self, value):\n",
    "        self.value = value  # Значение узла\n",
    "        self.prev = None    # Ссылка на предыдущий узел\n",
    "        self.next = None    # Ссылка на следующий узел\n",
    "\n",
    "class DoubleLinkedList:\n",
    "    def __init__(self):\n",
    "        self.head = None    # Голова списка\n",
    "        self.tail = None    # Хвост списка\n",
    "\n",
    "    def add_node(self, value):\n",
    "        new_node = Node(value)  # Создание нового узла с заданным значением\n",
    "        if self.head is None:   # Если список пуст\n",
    "            self.head = self.tail = new_node  # Голова и хвост указывают на новый узел\n",
    "        else:\n",
    "            new_node.prev = self.tail  # Предыдущий узел нового узла указывает на текущий хвост\n",
    "            self.tail.next = new_node  # Следующий узел текущего хвоста указывает на новый узел\n",
    "            self.tail = new_node      # Хвост списка становится новым узлом\n",
    "\n",
    "    def sum_elements(self, condition):\n",
    "        current = self.head   # Начинаем с головы списка\n",
    "        total_sum = 0         # Инициализируем сумму 0\n",
    "        while current:        # Пока не дошли до конца списка\n",
    "            if condition(current.value):  # Если значение узла удовлетворяет условию\n",
    "                total_sum += current.value  # Добавляем значение к сумме\n",
    "            current = current.next  # Переходим к следующему узлу\n",
    "        return total_sum  # Возвращаем итоговую сумму\n",
    "\n",
    "# Создание двусвязного списка\n",
    "dll = DoubleLinkedList()\n",
    "\n",
    "# Добавление элементов\n",
    "dll.add_node(1)\n",
    "dll.add_node(2)\n",
    "dll.add_node(3)\n",
    "dll.add_node(4)\n",
    "dll.add_node(5)\n",
    "\n",
    "# Нахождение суммы элементов, которые больше 3\n",
    "print(dll.sum_elements(lambda x: x > 3))  \n",
    "\n",
    "# Нахождение суммы элементов, которые меньше 3\n",
    "print(dll.sum_elements(lambda x: x < 3)) "
   ]
  }
 ],
 "metadata": {
  "kernelspec": {
   "display_name": "Python 3 (ipykernel)",
   "language": "python",
   "name": "python3"
  },
  "language_info": {
   "codemirror_mode": {
    "name": "ipython",
    "version": 3
   },
   "file_extension": ".py",
   "mimetype": "text/x-python",
   "name": "python",
   "nbconvert_exporter": "python",
   "pygments_lexer": "ipython3",
   "version": "3.11.4"
  }
 },
 "nbformat": 4,
 "nbformat_minor": 5
}
