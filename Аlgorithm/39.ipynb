{
 "cells": [
  {
   "cell_type": "markdown",
   "id": "606cce0d",
   "metadata": {},
   "source": [
    "### Реализовать класс бинарного дерева. Написать функцию для нахождения всех узлов на заданной глубине в бинарном дереве."
   ]
  },
  {
   "cell_type": "code",
   "execution_count": 2,
   "id": "1ec31e1a",
   "metadata": {},
   "outputs": [
    {
     "name": "stdout",
     "output_type": "stream",
     "text": [
      "[3, 7]\n"
     ]
    }
   ],
   "source": [
    "# 39\n",
    "class Node:\n",
    "    def __init__(self, value):\n",
    "        self.value = value  \n",
    "        self.left = None    \n",
    "        self.right = None   \n",
    "\n",
    "class BinaryTree:\n",
    "    def __init__(self):\n",
    "        self.root = None   \n",
    "\n",
    "    def add_node(self, value):\n",
    "        if self.root is None:  # Если дерево пусто\n",
    "            self.root = Node(value)  # Корень указывает на новый узел\n",
    "        else:\n",
    "            self._add_node(self.root, value)  # Рекурсивно добавляем узел в дерево\n",
    "\n",
    "    def _add_node(self, current, value):\n",
    "        if value < current.value:  # Если значение меньше значения текущего узла\n",
    "            if current.left is None:  # Если левый узел пуст\n",
    "                current.left = Node(value)  # Добавляем новый узел слева\n",
    "            else:\n",
    "                self._add_node(current.left, value)  # Рекурсивно добавляем узел в левое поддерево\n",
    "        else:\n",
    "            if current.right is None:  # Если правый узел пуст\n",
    "                current.right = Node(value)  # Добавляем новый узел справа\n",
    "            else:\n",
    "                self._add_node(current.right, value)  # Рекурсивно добавляем узел в правое поддерево\n",
    "\n",
    "    def find_nodes_at_depth(self, depth):\n",
    "        if self.root is None:  # Если дерево пусто\n",
    "            return []  # Возвращаем пустой список\n",
    "\n",
    "        result = []  # Список для хранения узлов на заданной глубине\n",
    "        self._find_nodes_at_depth(self.root, depth, 1, result)  # Рекурсивно ищем узлы на заданной глубине\n",
    "        return result\n",
    "\n",
    "    def _find_nodes_at_depth(self, current, depth, current_depth, result):\n",
    "        if current is None:  # Если текущий узел пуст\n",
    "            return  # Возвращаемся назад\n",
    "\n",
    "        if current_depth == depth:  # Если текущая глубина равна заданной глубине\n",
    "            result.append(current.value)  # Добавляем значение текущего узла в результат\n",
    "\n",
    "        self._find_nodes_at_depth(current.left, depth, current_depth + 1, result)  # Рекурсивно ищем в левом поддереве\n",
    "        self._find_nodes_at_depth(current.right, depth, current_depth + 1, result)  # Рекурсивно ищем в правом поддереве\n",
    "\n",
    "# Создание бинарного дерева\n",
    "tree = BinaryTree()\n",
    "\n",
    "# Добавление узлов\n",
    "tree.add_node(5)\n",
    "tree.add_node(3)\n",
    "tree.add_node(7)\n",
    "tree.add_node(2)\n",
    "tree.add_node(4)\n",
    "tree.add_node(6)\n",
    "tree.add_node(8)\n",
    "\n",
    "# Нахождение узлов на глубине 2\n",
    "print(tree.find_nodes_at_depth(2))  "
   ]
  }
 ],
 "metadata": {
  "kernelspec": {
   "display_name": "Python 3 (ipykernel)",
   "language": "python",
   "name": "python3"
  },
  "language_info": {
   "codemirror_mode": {
    "name": "ipython",
    "version": 3
   },
   "file_extension": ".py",
   "mimetype": "text/x-python",
   "name": "python",
   "nbconvert_exporter": "python",
   "pygments_lexer": "ipython3",
   "version": "3.11.4"
  }
 },
 "nbformat": 4,
 "nbformat_minor": 5
}
