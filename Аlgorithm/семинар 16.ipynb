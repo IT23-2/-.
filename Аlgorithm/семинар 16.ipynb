{
 "cells": [
  {
   "cell_type": "markdown",
   "id": "757aaa5b",
   "metadata": {},
   "source": [
    "# 25(15)\n",
    "## Класс – целочисленный вектор фиксированной размерности. Методы – сравнение двух векторов на равенство, вычисление длины вектора. Поля – размерность вектора, координаты вектора."
   ]
  },
  {
   "cell_type": "code",
   "execution_count": 6,
   "id": "3454b85f",
   "metadata": {},
   "outputs": [],
   "source": [
    "class Vector:\n",
    "    def __init__(self, dimension, coordinates):\n",
    "        self.dimension = dimension\n",
    "        self.coordinates = coordinates\n",
    "#сравниваем векторы\n",
    "    def __eq__(self, other):\n",
    "        return self.coordinates == other.coordinates\n",
    "\n",
    "#находим длину\n",
    "    def length(self):\n",
    "        return sum(coord ** 2 for coord in self.coordinates) ** 0.5"
   ]
  },
  {
   "cell_type": "code",
   "execution_count": 7,
   "id": "02b29ab3",
   "metadata": {},
   "outputs": [
    {
     "name": "stdout",
     "output_type": "stream",
     "text": [
      "True\n",
      "3.7416573867739413\n"
     ]
    }
   ],
   "source": [
    "# Пример использования класса Vector\n",
    "vector1 = Vector(3, [1, 2, 3])\n",
    "vector2 = Vector(3, [1, 2, 3])\n",
    "\n",
    "print(vector1 == vector2)  \n",
    "print(vector1.length())"
   ]
  },
  {
   "cell_type": "markdown",
   "id": "b7f5dad0",
   "metadata": {},
   "source": [
    "# 26(15)\n",
    "## Опишите класс Window для работы с моделями экранных окон. В качестве полей задаются координаты левого верхнего угла и размеры окна по вертикали и по горизонтали (целые числа), заголовок окна, состояние (видимое/невидимое). Включите в описание класса методы передвижения окна по горизонтали и по вертикали, изменения высоты и ширины окна с проверкой на пересечение границ экрана и свойство, позволяющее установить, является ли данное окно квадратным."
   ]
  },
  {
   "cell_type": "code",
   "execution_count": 6,
   "id": "e90b2978",
   "metadata": {},
   "outputs": [],
   "source": [
    "class Window:\n",
    "    def __init__(self, x, y, width, height, title, visible):\n",
    "        self.x = x  # координата x левого верхнего угла\n",
    "        self.y = y  # координата y левого верхнего угла\n",
    "        self.width = width  # ширина окна\n",
    "        self.height = height  # высота окна\n",
    "        self.title = title  # заголовок окна\n",
    "        self.visible = visible  # состояние окна (видимое/невидимое)\n",
    "\n",
    "    def move_horizontal(self, dx):\n",
    "        new_x = self.x + dx\n",
    "        # Проверяем новую координату на выход за границу экрана\n",
    "        if new_x >= 0:\n",
    "            self.x = new_x\n",
    "\n",
    "    def move_vertical(self, dy):\n",
    "        new_y = self.y + dy\n",
    "        # Проверяем новую координату на выход за границу экрана\n",
    "        if new_y >= 0:\n",
    "            self.y = new_y\n",
    "\n",
    "    def resize_width(self, delta_width):\n",
    "        new_width = self.width + delta_width\n",
    "        # Проверяем новую ширину на выход за границы экрана\n",
    "        if new_width > 0:\n",
    "            self.width = new_width\n",
    "\n",
    "    def resize_height(self, delta_height):\n",
    "        new_height = self.height + delta_height\n",
    "        # Проверяем новую высоту на выход за границы экрана\n",
    "        if new_height > 0:\n",
    "            self.height = new_height\n",
    "\n",
    "    @property\n",
    "    def is_square(self):\n",
    "        return self.width == self.height\n"
   ]
  },
  {
   "cell_type": "code",
   "execution_count": 7,
   "id": "a6837299",
   "metadata": {},
   "outputs": [
    {
     "name": "stdout",
     "output_type": "stream",
     "text": [
      "100\n",
      "80\n",
      "False\n",
      "80\n",
      "True\n",
      "10\n"
     ]
    }
   ],
   "source": [
    "# Пример использования класса Window\n",
    "window = Window(10, 20, 100, 80, \"My Window\", True)\n",
    "print(window.width) \n",
    "print(window.height) \n",
    "print(window.is_square)  \n",
    "window.resize_width(-20)\n",
    "print(window.width)  \n",
    "print(window.is_square)  \n",
    "window.move_horizontal(-15)\n",
    "print(window.x)  "
   ]
  },
  {
   "cell_type": "markdown",
   "id": "66b7af3e",
   "metadata": {},
   "source": [
    "# 27(15)\n",
    "## Создайте класс ТРАНСПОРТ с методами, позволяющими вывести на экран информацию о транспортном средстве, а также определить грузоподъемность транспортного средства. Создайте дочерние классы АВТОМОБИЛЬ (марка, номер, скорость, грузоподъемность), МОТОЦИКЛ (марка, номер, скорость, грузоподъемность, наличие коляски, при этом если коляска отсутствует, то грузоподъемность равна нулю), ГРУЗОВИК (марка, номер, скорость, грузоподъемность, наличие прицепа, при этом если есть прицеп, то грузоподъемность увеличивается в два раза) со своими методами вывода информации на экран и определения грузоподъемности. Создайте список из  n  машин, выведите полную информацию на экран, а также организуйте поиск машин, удовлетворяющих требованиям грузоподъемности.\n"
   ]
  },
  {
   "cell_type": "code",
   "execution_count": 4,
   "id": "6dcf21a3",
   "metadata": {},
   "outputs": [
    {
     "name": "stdout",
     "output_type": "stream",
     "text": [
      "Brand: Toyota\n",
      "Number: ABC123\n",
      "Speed: 180\n",
      "Carrying Capacity: 500\n",
      "Brand: Honda\n",
      "Number: XYZ456\n",
      "Speed: 120\n",
      "Carrying Capacity: 200\n",
      "Brand: Volvo\n",
      "Number: DEF789\n",
      "Speed: 100\n",
      "Carrying Capacity: 2000\n",
      "Vehicles with carrying capacity >= 600:\n",
      "Brand: Volvo\n",
      "Number: DEF789\n",
      "Speed: 100\n",
      "Carrying Capacity: 2000\n"
     ]
    }
   ],
   "source": [
    "class Transport:\n",
    "    def __init__(self, brand, number, speed, carrying_capacity):\n",
    "        self.brand = brand\n",
    "        self.number = number\n",
    "        self.speed = speed\n",
    "        self.carrying_capacity = carrying_capacity\n",
    "\n",
    "    def display_info(self):\n",
    "        print(f\"Brand: {self.brand}\\nNumber: {self.number}\\nSpeed: {self.speed}\\nCarrying Capacity: {self.carrying_capacity}\")\n",
    "\n",
    "    def calculate_carrying_capacity(self):\n",
    "        return self.carrying_capacity\n",
    "\n",
    "class Automobile(Transport):\n",
    "    def __init__(self, brand, number, speed, carrying_capacity):\n",
    "        super().__init__(brand, number, speed, carrying_capacity)\n",
    "\n",
    "class Motorcycle(Transport):\n",
    "    def __init__(self, brand, number, speed, carrying_capacity, has_sidecar):\n",
    "        super().__init__(brand, number, speed, 0 if not has_sidecar else carrying_capacity)\n",
    "\n",
    "    def calculate_carrying_capacity(self):\n",
    "        return self.carrying_capacity\n",
    "\n",
    "class Truck(Transport):\n",
    "    def __init__(self, brand, number, speed, carrying_capacity, has_trailer):\n",
    "        super().__init__(brand, number, speed, carrying_capacity * 2 if has_trailer else carrying_capacity)\n",
    "\n",
    "    def calculate_carrying_capacity(self):\n",
    "        return self.carrying_capacity\n",
    "\n",
    "n = 3\n",
    "vehicles = [\n",
    "    Automobile(\"Toyota\", \"ABC123\", 180, 500),\n",
    "    Motorcycle(\"Honda\", \"XYZ456\", 120, 200, True),\n",
    "    Truck(\"Volvo\", \"DEF789\", 100, 1000, True)\n",
    "]\n",
    "\n",
    "for vehicle in vehicles:\n",
    "    vehicle.display_info()\n",
    "\n",
    "required_carrying_capacity = 600\n",
    "print(f\"Vehicles with carrying capacity >= {required_carrying_capacity}:\")\n",
    "for vehicle in vehicles:\n",
    "    if vehicle.calculate_carrying_capacity() >= required_carrying_capacity:\n",
    "        vehicle.display_info()"
   ]
  },
  {
   "cell_type": "code",
   "execution_count": null,
   "id": "776d12be",
   "metadata": {},
   "outputs": [],
   "source": []
  }
 ],
 "metadata": {
  "kernelspec": {
   "display_name": "Python 3 (ipykernel)",
   "language": "python",
   "name": "python3"
  },
  "language_info": {
   "codemirror_mode": {
    "name": "ipython",
    "version": 3
   },
   "file_extension": ".py",
   "mimetype": "text/x-python",
   "name": "python",
   "nbconvert_exporter": "python",
   "pygments_lexer": "ipython3",
   "version": "3.11.4"
  }
 },
 "nbformat": 4,
 "nbformat_minor": 5
}
