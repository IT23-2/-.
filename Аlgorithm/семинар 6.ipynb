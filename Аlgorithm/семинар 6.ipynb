{
 "cells": [
  {
   "cell_type": "code",
   "execution_count": 1,
   "id": "5c90d101",
   "metadata": {},
   "outputs": [
    {
     "name": "stdout",
     "output_type": "stream",
     "text": [
      "0\n",
      "1\n",
      "2\n",
      "3\n",
      "4\n",
      "STOP\n"
     ]
    }
   ],
   "source": [
    "#6.1.1\n",
    "# Создадим итератор при помощи функции iter().\n",
    "num = iter([0, 1, 2, 3, 4])\n",
    "\n",
    "print(next(num, 'STOP'))\n",
    "print(next(num, 'STOP'))\n",
    "print(next(num, 'STOP'))\n",
    "print(next(num, 'STOP'))\n",
    "print(next(num, 'STOP'))\n",
    "print(next(num, 'STOP'))\n"
   ]
  },
  {
   "cell_type": "code",
   "execution_count": null,
   "id": "7708f0e5",
   "metadata": {},
   "outputs": [],
   "source": [
    "#6.1.2,#6.1.3\n",
    "from math import sqrt\n",
    "cathetus_1, hypotenuse = float(input('Длина первого катета:')), float(input('Длина гипотенузы:'))\n",
    "def cathetus_2(cathetus_1,hypotenuse):\n",
    "    try:\n",
    "        if cathetus_1 > 0 and hypotenuse > 0 and hypotenuse > cathetus_1:\n",
    "             return(sqrt(hypotenuse ** 2 - cathetus_1 ** 2))\n",
    "    except:\n",
    "        return(\"Ошибка ввода\")\n",
    "a = cathetus_2(cathetus_1,hypotenuse)\n",
    "if a is None:\n",
    "    print(\"Ошибка ввода\")\n",
    "else:\n",
    "    print('Длина второго катета:',cathetus_2(cathetus_1,hypotenuse))"
   ]
  },
  {
   "cell_type": "code",
   "execution_count": null,
   "id": "a9f0bdee",
   "metadata": {},
   "outputs": [],
   "source": [
    "\n"
   ]
  }
 ],
 "metadata": {
  "kernelspec": {
   "display_name": "Python 3 (ipykernel)",
   "language": "python",
   "name": "python3"
  },
  "language_info": {
   "codemirror_mode": {
    "name": "ipython",
    "version": 3
   },
   "file_extension": ".py",
   "mimetype": "text/x-python",
   "name": "python",
   "nbconvert_exporter": "python",
   "pygments_lexer": "ipython3",
   "version": "3.11.4"
  }
 },
 "nbformat": 4,
 "nbformat_minor": 5
}
