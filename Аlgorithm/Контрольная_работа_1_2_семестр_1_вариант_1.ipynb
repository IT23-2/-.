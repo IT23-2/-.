{
 "cells": [
  {
   "cell_type": "markdown",
   "metadata": {},
   "source": [
    "### Контрольная работа № 1.\n",
    "### Вариант 1.\n",
    "#### Студент Ле Суан Бать группа ИД23-2"
   ]
  },
  {
   "cell_type": "markdown",
   "metadata": {},
   "source": [
    "1. Создайте класс Length (Длина), имеющий свойства\n",
    "\n",
    "• value (значение),\n",
    "\n",
    "• unit (единица измерения).\n",
    "\n",
    "При изменении единицы измерения значение должно соответственно меняться. Например, при переходе от сантиметров к метрам значение должно уменьшаться в 100 раз. Допустимые значения свойства unit: ‘см’, ‘м’, ‘км’. Организуйте эту проверку. Продемонстрируйте работу с классом."
   ]
  },
  {
   "cell_type": "code",
   "execution_count": 67,
   "metadata": {},
   "outputs": [],
   "source": [
    "# Решение 1.\n",
    "class Length:\n",
    "    def __init__(self,value,unit):\n",
    "        self.value = value # значение\n",
    "        self.unit = unit   # единица измерения \n",
    "    \n",
    "    \n",
    "    def convert_unit(self, new_unit):\n",
    "        units_conversion = {'см': 1, 'м': 100, 'км': 100000}\n",
    "\n",
    "        if self.unit in units_conversion and new_unit in units_conversion:\n",
    "            self.value = self.value * units_conversion[self.unit] / units_conversion[new_unit]\n",
    "            self.unit = new_unit\n",
    "        else:\n",
    "            print(\"Invalid unit conversion\")\n",
    "    \n",
    "#возвращает строковое представление    \n",
    "    def __str__(self):\n",
    "        return f\"{self.value} {self.unit}\"\n"
   ]
  },
  {
   "cell_type": "code",
   "execution_count": 68,
   "metadata": {},
   "outputs": [
    {
     "name": "stdout",
     "output_type": "stream",
     "text": [
      "100 см\n",
      "1.0 м\n",
      "0.001 км\n"
     ]
    }
   ],
   "source": [
    "# Пример использования\n",
    "length = Length(100, 'см')\n",
    "print(length)  \n",
    "\n",
    "length.convert_unit('м')\n",
    "print(length)  \n",
    "\n",
    "length.convert_unit('км')\n",
    "print(length)"
   ]
  },
  {
   "cell_type": "markdown",
   "metadata": {},
   "source": [
    "2. Создайте класс Ведомость, имеющий\n",
    "атрибут класса:\n",
    "\n",
    "• список_дисциплин (значением является список с названиями дисциплин);\n",
    "\n",
    "свойства:\n",
    "\n",
    "• дисциплина (при задании значения проверять наличие дисциплины в атрибуте список_дисциплин),\n",
    "\n",
    "• группа;\n",
    "\n",
    "методы:\n",
    "\n",
    "• put – добавляет в ведомость информацию об оценке студента (фамилия, оценка – параметры метода). Для хранения данных внутри класса используйте словарь, в котором ключом является фамилия студента. Возможные оценки – «отлично», «хорошо», «удовл.», «неудовл.», «н/я»;\n",
    "\n",
    "• get – возвращает оценку, полученную студентом (фамилия студента – параметр метода);\n",
    "\n",
    "• change – изменяет оценку, полученную студентом (фамилия студента и новая оценка – параметры метода);\n",
    "\n",
    "• del – удаляет информацию о студенте из ведомости (фамилия студента – параметр метода);\n",
    "\n",
    "• result – возвращает кортеж из 5 чисел (количество каждого вида оценок в ведомости);\n",
    "\n",
    "• __init__ – конструктор;\n",
    "\n",
    "• __str__ – возвращает строку, содержащую заголовки (название экзамена, группа) и результаты экзамена в виде таблицы;\n",
    "\n",
    "• count – возвращает количество студентов в ведомости;\n",
    "\n",
    "• names – возвращает список фамилий, имеющихся в ведомости.\n",
    "\n",
    "Продемонстрируйте работу с классом. \n"
   ]
  },
  {
   "cell_type": "code",
   "execution_count": 69,
   "metadata": {},
   "outputs": [],
   "source": [
    "# Решение 2.\n",
    "class Statement:\n",
    "    list_of_disciplines = ['Математика','Русский язык','Информатика']\n",
    "    def __init__(self,discipline,group):\n",
    "        if discipline in Statement.list_of_disciplines:\n",
    "            self.discipline = discipline\n",
    "        else:\n",
    "            print(\"Дисциплина не найдена в списке\")\n",
    "        self.group = group\n",
    "        self.Statement = {}\n",
    "\n",
    "    def put(self,surname,mark):\n",
    "        mark_list = {'отлично', 'хорошо', 'удовл.', 'неудовл.', 'н/я'}\n",
    "        if mark in mark_list:\n",
    "            self.Statement[surname] = mark\n",
    "        else:\n",
    "            print(\"Недопустимая оценка\")\n",
    "\n",
    "    def get(self,surname):\n",
    "        return self.Statement.get(surname, \"Студент не найден\")\n",
    "    \n",
    "    def change(self,surname,mark):\n",
    "        if surname in self.Statement:\n",
    "            self.Statement[surname] = new_mark\n",
    "        else:\n",
    "            print(\"Студент не найден\")\n",
    "        \n",
    "    def del_student(self,surname):\n",
    "        if surname in self.Statement:\n",
    "            del self.Statement[surname]\n",
    "        else:\n",
    "            print(\"Студент не найден\")\n",
    "        \n",
    "    def result(self,mark):\n",
    "        mark = self.Statement.values()\n",
    "        return tuple(количества.get(mark, 0) for mark in ['отлично', 'хорошо', 'удовл.', 'неудовл.', 'н/я'])\n",
    "        \n",
    "    def count(self):\n",
    "        return len(self.Statement)\n",
    "    \n",
    "    def name(self):\n",
    "        return list(self.Statement.keys())\n",
    "    \n",
    "    def __str__(self):\n",
    "        результаты = ''\n",
    "        for surname, mark in self.Statement.items():\n",
    "            результаты += f\"{surname}: {mark}\\n\"\n",
    "        return f\"disciplines: {self.disciplines}\\ngroup: {self.group}\\n\\n{результаты}\"\n",
    "\n"
   ]
  },
  {
   "cell_type": "code",
   "execution_count": 70,
   "metadata": {},
   "outputs": [
    {
     "name": "stdout",
     "output_type": "stream",
     "text": [
      "Количество студентов в ведомости: 3\n",
      "Фамилии студентов в ведомости: ['Турунцев', 'Гоова', 'Бать']\n"
     ]
    }
   ],
   "source": [
    "# Пример использования класса\n",
    "Statement = Statement('Математика', 'ИД23-2')\n",
    "Statement.put('Турунцев', 'отлично')\n",
    "Statement.put('Гоова', 'хорошо')\n",
    "Statement.put('Бать', 'удовл.')\n",
    "print(\"Количество студентов в ведомости:\", Statement.count())\n",
    "print(\"Фамилии студентов в ведомости:\", Statement.name())"
   ]
  },
  {
   "cell_type": "markdown",
   "metadata": {},
   "source": [
    "3. Создайте класс Заказ(Order), у которого есть свойства код_товара(code), цена(price), количество(count) и методы __init__ и __str__.\n",
    "\n",
    "Создайте 2 класса-потомка: Опт(Opt) и Розница(Retail).\n",
    "В этих классах создайте методы __init__, __str__.и сумма_заказа(summa), позволяющий узнать стоимость заказа.\n",
    "Для опта стоимость единицы товара составляет 95% от цены, а при покупке более 500 штук – 90% цены.\n",
    "В розницу стоимость единицы товара составляет 100% цены. Стоимость заказа равна произведению цены на количество. \n",
    "\n",
    "Продемонстрируйте работу с классами, создав необходимые объекты и обратившись к их свойствам и методам\n"
   ]
  },
  {
   "cell_type": "code",
   "execution_count": 71,
   "metadata": {},
   "outputs": [],
   "source": [
    "# Решение 3.\n",
    "class Order:\n",
    "    def __init__(self, code, price, count):\n",
    "        self.code = code\n",
    "        self.price = price\n",
    "        self.count = count\n",
    "\n",
    "    def __str__(self):\n",
    "        return f\"Код товара: {self.code}, Цена: {self.price}, Количество: {self.count}\"\n",
    "\n",
    "class Opt(Order):\n",
    "    def __init__(self, code, price, count):\n",
    "        super().__init__(code, price, count)\n",
    "\n",
    "    def __str__(self):\n",
    "        return super().__str__()\n",
    "\n",
    "    def summa(self):\n",
    "        if self.count > 500:\n",
    "            return self.price * self.count * 0.9\n",
    "        else:\n",
    "            return self.price * self.count * 0.95\n",
    "\n",
    "class Retail(Order):\n",
    "    def __init__(self, code, price, count):\n",
    "        super().__init__(code, price, count)\n",
    "\n",
    "    def __str__(self):\n",
    "        return super().__str__()\n",
    "\n",
    "    def summa(self):\n",
    "        return self.price * self.count"
   ]
  },
  {
   "cell_type": "code",
   "execution_count": 72,
   "metadata": {},
   "outputs": [
    {
     "name": "stdout",
     "output_type": "stream",
     "text": [
      "Код товара: 001, Цена: 100, Количество: 10\n",
      "Код товара: 002, Цена: 200, Количество: 600\n",
      "Сумма заказа опта: 108000.0\n",
      "Код товара: 003, Цена: 50, Количество: 20\n",
      "Сумма заказа розницы: 1000\n"
     ]
    }
   ],
   "source": [
    "# Создание экземпляра класса Заказ\n",
    "order_1 = Order(\"001\", 100, 10)\n",
    "print(order_1)\n",
    "\n",
    "# Создание экземпляра класса Опт\n",
    "opt_order = Opt(\"002\", 200, 600)\n",
    "print(opt_order)\n",
    "print(\"Сумма заказа опта:\", opt_order.summa())\n",
    "\n",
    "# Создание экземпляра класса Розница\n",
    "Retail_order = Retail(\"003\", 50, 20)\n",
    "print(Retail_order)\n",
    "print(\"Сумма заказа розницы:\", Retail_order.summa())"
   ]
  },
  {
   "cell_type": "markdown",
   "metadata": {},
   "source": [
    "4. Написать функцию my_func_1(lst), которая переворачивает список вложенных списков с произвольным уровнем вложенности.\n",
    "Любой элемент, не являющийся списком, не должен быть изменен.\n",
    "\n",
    "Примеры, демонстрирующие ожидаемое поведение функции:\n",
    "\n",
    "assert my_func_1(42) == 42\n",
    "\n",
    "assert my_func_1([]) == []\n",
    "\n",
    "assert my_func_1([1, 2]) == [2, 1]\n",
    "\n",
    "assert my_func_1((1, 2)) == (1, 2)\n",
    "\n",
    "assert my_func_1([[1, 2], [3, [4, 5]], 6]) == [6, [[5, 4], 3], [2, 1]]\n",
    "\n",
    "assert my_func_1(['123', '456', '789', {10: [11, 12], 13: 14}, (15, 16)]) == [(15, 16), {10: [11, 12], 13: 14}, '789', '456', '123']\n",
    "\n",
    "assert my_func_1([[[[[1, 2]]]]]) == [[[[[2, 1]]]]]"
   ]
  },
  {
   "cell_type": "code",
   "execution_count": 73,
   "metadata": {},
   "outputs": [
    {
     "name": "stdout",
     "output_type": "stream",
     "text": [
      "True\n",
      "True\n",
      "True\n",
      "True\n",
      "True\n",
      "True\n",
      "True\n"
     ]
    }
   ],
   "source": [
    "# Решение 4.\n",
    "def my_func_1(lst):    \n",
    "    if isinstance(lst, list):\n",
    "        return [my_func_1(item) for item in lst[::-1]]    \n",
    "    else:\n",
    "        return lst\n",
    "\n",
    "print( my_func_1(42) == 42)\n",
    "print( my_func_1([]) == [])\n",
    "print( my_func_1([1, 2]) == [2, 1])\n",
    "print( my_func_1((1, 2)) == (1, 2))\n",
    "print( my_func_1([[1, 2], [3, [4, 5]], 6]) == [6, [[5, 4], 3], [2, 1]])\n",
    "print( my_func_1(['123', '456', '789', {10: [11, 12], 13: 14}, (15, 16)]) == [(15, 16), {10: [11, 12], 13: 14}, '789', '456', '123'])\n",
    "print( my_func_1([[[[[1, 2]]]]]) == [[[[[2, 1]]]]])\n"
   ]
  },
  {
   "cell_type": "markdown",
   "metadata": {},
   "source": [
    "5.При помощи механизма map/filter/reduce возвести в квадрат числа от 1 до 100, и рассчитать их сумму, не включая в сумму числа, кратные 9. Написать реализацию в одну строку."
   ]
  },
  {
   "cell_type": "code",
   "execution_count": 74,
   "metadata": {},
   "outputs": [
    {
     "name": "stdout",
     "output_type": "stream",
     "text": [
      "225589\n"
     ]
    }
   ],
   "source": [
    "# Решение 5.\n",
    "from functools import reduce;print(reduce(lambda x, y: x + y, filter(lambda x: x % 9 != 0, map(lambda x: x**2, range(1, 101)))))"
   ]
  }
 ],
 "metadata": {
  "kernelspec": {
   "display_name": "Python 3 (ipykernel)",
   "language": "python",
   "name": "python3"
  },
  "language_info": {
   "codemirror_mode": {
    "name": "ipython",
    "version": 3
   },
   "file_extension": ".py",
   "mimetype": "text/x-python",
   "name": "python",
   "nbconvert_exporter": "python",
   "pygments_lexer": "ipython3",
   "version": "3.10.9"
  }
 },
 "nbformat": 4,
 "nbformat_minor": 4
}
