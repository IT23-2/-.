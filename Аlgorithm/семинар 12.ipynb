{
 "cells": [
  {
   "cell_type": "code",
   "execution_count": 1,
   "id": "54b54c0f",
   "metadata": {},
   "outputs": [
    {
     "name": "stdout",
     "output_type": "stream",
     "text": [
      "True\n",
      "False\n"
     ]
    }
   ],
   "source": [
    "class Stack:\n",
    "    def __init__(self):\n",
    "        self.items = []  # Инициализация стека как пустого списка\n",
    "\n",
    "    def is_empty(self):\n",
    "        return self.items == []  # Проверка, пуст ли стек\n",
    "\n",
    "    def push(self, item):\n",
    "        self.items.append(item)  # Добавление элемента в стек\n",
    "\n",
    "    def pop(self):\n",
    "        if not self.is_empty():\n",
    "            return self.items.pop()  # Удаление и возврат верхнего элемента стека, если стек не пуст\n",
    "        else:\n",
    "            return None  # Возврат None, если стек пуст\n",
    "\n",
    "    def peek(self):\n",
    "        if not self.is_empty():\n",
    "            return self.items[-1]  # Возврат верхнего элемента стека без удаления, если стек не пуст\n",
    "        else:\n",
    "            return None  # Возврат None, если стек пуст\n",
    "\n",
    "def check_brackets(input_string):\n",
    "    stack = Stack()  # Создание экземпляра стека\n",
    "    opening_brackets = '({['\n",
    "    closing_brackets = ')}]'\n",
    "    bracket_pairs = {')': '(', '}': '{', ']': '['}  # Соответствие закрывающих и открывающих скобок\n",
    "\n",
    "    for char in input_string:\n",
    "        if char in opening_brackets:\n",
    "            stack.push(char)  # Если символ - открывающая скобка, добавляем в стек\n",
    "        elif char in closing_brackets:\n",
    "            if stack.is_empty() or bracket_pairs[char] != stack.pop():\n",
    "                return False  # Если стек пуст или скобки не соответствуют, возвращаем False\n",
    "\n",
    "    return stack.is_empty()  # Возвращаем True, если стек пуст (все скобки закрыты)\n",
    "\n",
    "# Пример использования\n",
    "test_string1 = '((dsasdas((das(d)das)d)asd)da)'\n",
    "test_string2 = '(f(gfhd((hgfdg((fghh)dads)das))ds)adddads())))'\n",
    "\n",
    "result1 = check_brackets(test_string1)\n",
    "result2 = check_brackets(test_string2)\n",
    "\n",
    "print(result1)  \n",
    "print(result2)  "
   ]
  }
 ],
 "metadata": {
  "kernelspec": {
   "display_name": "Python 3 (ipykernel)",
   "language": "python",
   "name": "python3"
  },
  "language_info": {
   "codemirror_mode": {
    "name": "ipython",
    "version": 3
   },
   "file_extension": ".py",
   "mimetype": "text/x-python",
   "name": "python",
   "nbconvert_exporter": "python",
   "pygments_lexer": "ipython3",
   "version": "3.11.4"
  }
 },
 "nbformat": 4,
 "nbformat_minor": 5
}
