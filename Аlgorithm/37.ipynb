{
 "cells": [
  {
   "cell_type": "markdown",
   "id": "a68bc6dd",
   "metadata": {},
   "source": [
    "### Реализовать функцию, которая возвращает сумму всех элементов циклического двусвязного списка."
   ]
  },
  {
   "cell_type": "code",
   "execution_count": 1,
   "id": "f3b23c9c",
   "metadata": {},
   "outputs": [
    {
     "name": "stdout",
     "output_type": "stream",
     "text": [
      "15\n"
     ]
    }
   ],
   "source": [
    "# 37\n",
    "class Node:\n",
    "    def __init__(self, value):\n",
    "        self.value = value  \n",
    "        self.prev = None    \n",
    "        self.next = None    \n",
    "\n",
    "class CircularDoubleLinkedList:\n",
    "    def __init__(self):\n",
    "        self.head = None   \n",
    "\n",
    "    def add_node(self, value):\n",
    "        new_node = Node(value)  # Создание нового узла с заданным значением\n",
    "        if self.head is None:   # Если список пуст\n",
    "            self.head = new_node  # Голова указывает на новый узел\n",
    "            new_node.prev = new_node  # Предыдущий узел нового узла указывает на новый узел\n",
    "            new_node.next = new_node  # Следующий узел нового узла указывает на новый узел\n",
    "        else:\n",
    "            last_node = self.head.prev  # Текущий последний узел\n",
    "            new_node.prev = last_node  # Предыдущий узел нового узла указывает на текущий последний узел\n",
    "            new_node.next = self.head  # Следующий узел нового узла указывает на голову списка\n",
    "            last_node.next = new_node  # Текущий последний узел указывает на новый узел\n",
    "            self.head.prev = new_node  # Голова указывает на новый узел\n",
    "\n",
    "    def sum_elements(self):\n",
    "        if self.head is None:  # Если список пуст\n",
    "            return 0\n",
    "\n",
    "        total_sum = 0  # Инициализируем сумму 0\n",
    "        current = self.head  # Начинаем с головы списка\n",
    "        while True:\n",
    "            total_sum += current.value  # Добавляем значение узла к сумме\n",
    "            current = current.next  # Переходим к следующему узлу\n",
    "            if current == self.head:  # Если мы вернулись к голове списка\n",
    "                break\n",
    "\n",
    "        return total_sum  # Возвращаем итоговую сумму\n",
    "\n",
    "# Создание циклического двусвязного списка\n",
    "cdll = CircularDoubleLinkedList()\n",
    "\n",
    "# Добавление элементов\n",
    "cdll.add_node(1)\n",
    "cdll.add_node(2)\n",
    "cdll.add_node(3)\n",
    "cdll.add_node(4)\n",
    "cdll.add_node(5)\n",
    "\n",
    "# Нахождение суммы элементов\n",
    "total_sum = cdll.sum_elements()\n",
    "print(total_sum)  "
   ]
  }
 ],
 "metadata": {
  "kernelspec": {
   "display_name": "Python 3 (ipykernel)",
   "language": "python",
   "name": "python3"
  },
  "language_info": {
   "codemirror_mode": {
    "name": "ipython",
    "version": 3
   },
   "file_extension": ".py",
   "mimetype": "text/x-python",
   "name": "python",
   "nbconvert_exporter": "python",
   "pygments_lexer": "ipython3",
   "version": "3.11.4"
  }
 },
 "nbformat": 4,
 "nbformat_minor": 5
}
