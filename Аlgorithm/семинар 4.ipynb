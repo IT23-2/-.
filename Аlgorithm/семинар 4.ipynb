{
 "cells": [
  {
   "cell_type": "code",
   "execution_count": 2,
   "id": "e7cae785",
   "metadata": {},
   "outputs": [
    {
     "name": "stdout",
     "output_type": "stream",
     "text": [
      "абрикос арбуз дыня яблоко\n"
     ]
    }
   ],
   "source": [
    "#17\n",
    "ls = 'дыня абрикос яблоко арбуз'\n",
    "#преобразовал в список\n",
    "a = ls.split(' ')\n",
    "#сортируем список\n",
    "a.sort()\n",
    "b = ' '.join(a)\n",
    "print(b)"
   ]
  },
  {
   "cell_type": "code",
   "execution_count": 3,
   "id": "bb171583",
   "metadata": {},
   "outputs": [
    {
     "name": "stdout",
     "output_type": "stream",
     "text": [
      "[('альфа', 'одни'), ('бетта', 'два'), ('гамма', 'три')]\n"
     ]
    }
   ],
   "source": [
    "#9\n",
    "numbers = ['одни', 'два', 'три']\n",
    "names = [\"альфа\", \"бетта\", \"гамма\"]\n",
    "\n",
    "zipped_values = zip(names, numbers)\n",
    "zipped_list = list(zipped_values)\n",
    "\n",
    "print(zipped_list)"
   ]
  },
  {
   "cell_type": "code",
   "execution_count": 9,
   "id": "0e99c133",
   "metadata": {},
   "outputs": [
    {
     "name": "stdout",
     "output_type": "stream",
     "text": [
      "['четыре', 'пять', 'шесть', 'семь', 'одни', 'два', 'три']\n"
     ]
    }
   ],
   "source": [
    "#10\n",
    "number = ['одни', 'два', 'три','четыре','пять','шесть','семь']\n",
    "#взял срез с 0 до 2 элемент\n",
    "a = number[:3:]\n",
    "#взял срез с 3 до конца \n",
    "b = number[3::]\n",
    "#и объединил их в обратном порядке\n",
    "print(b+a)"
   ]
  },
  {
   "cell_type": "code",
   "execution_count": null,
   "id": "5e6e466e",
   "metadata": {},
   "outputs": [],
   "source": []
  }
 ],
 "metadata": {
  "kernelspec": {
   "display_name": "Python 3 (ipykernel)",
   "language": "python",
   "name": "python3"
  },
  "language_info": {
   "codemirror_mode": {
    "name": "ipython",
    "version": 3
   },
   "file_extension": ".py",
   "mimetype": "text/x-python",
   "name": "python",
   "nbconvert_exporter": "python",
   "pygments_lexer": "ipython3",
   "version": "3.11.4"
  }
 },
 "nbformat": 4,
 "nbformat_minor": 5
}
