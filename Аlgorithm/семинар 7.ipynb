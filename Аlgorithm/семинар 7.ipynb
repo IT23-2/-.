{
 "cells": [
  {
   "cell_type": "code",
   "execution_count": null,
   "id": "02df0c7b",
   "metadata": {},
   "outputs": [],
   "source": [
    "a = input()\n",
    "dct = {}\n",
    "for i in range(len(a)):\n",
    "    dct[i+1] = a[i]\n",
    "print(dct)"
   ]
  },
  {
   "cell_type": "code",
   "execution_count": null,
   "id": "37fdd58f",
   "metadata": {},
   "outputs": [],
   "source": [
    "b=[]\n",
    "for i in range(50):\n",
    "    s=input()\n",
    "    if s=='':\n",
    "        break\n",
    "    a=s.split()\n",
    "    b.append(a[0])\n",
    "    b.append(a[-1])    \n",
    "for i in b:\n",
    "    print(i, end=' ')"
   ]
  },
  {
   "cell_type": "code",
   "execution_count": null,
   "id": "d64ab51c",
   "metadata": {},
   "outputs": [],
   "source": [
    "r=input()\n",
    "a=['']*len(r)\n",
    "k=0\n",
    "\n",
    "while r!='':\n",
    "    mini=r[0]\n",
    "    for i in r:\n",
    "        if i<mini:\n",
    "            mini=i\n",
    "    for i in r:\n",
    "        if i==mini:\n",
    "            r=r.replace(mini, '')\n",
    "    a[k]=mini\n",
    "    k+=1\n",
    "    if k==len(a):\n",
    "        break\n",
    "\n",
    "for i in a:\n",
    "    if i!='':\n",
    "        print(i, end=' ')"
   ]
  },
  {
   "cell_type": "code",
   "execution_count": null,
   "id": "d207e8f4",
   "metadata": {},
   "outputs": [],
   "source": [
    "dict1 = {1: 'яблоки', 2: 'бананы', 3: 'груши'}\n",
    "dict2 = {'молоко': 1, 'яйца': 2}\n",
    "dict3 = {'продукты': 'творог', 'все для дома': 'мочалка'}\n",
    "dict4 = {}\n",
    "\n",
    "for i in dict1, dict2, dict3:\n",
    "    for key in i:\n",
    "        dict4[key] = i[key]\n",
    "\n",
    "print(dict4)"
   ]
  },
  {
   "cell_type": "code",
   "execution_count": null,
   "id": "4c493a75",
   "metadata": {},
   "outputs": [],
   "source": [
    "dic4 = {'t': 1, 'd': 7}; a = 0; b = 1\n",
    "\n",
    "for key in dic4:\n",
    "    a += dic4.get(key)\n",
    "    b *= dic4.get(key)\n",
    "\n",
    "print(a); print(b)"
   ]
  }
 ],
 "metadata": {
  "kernelspec": {
   "display_name": "Python 3 (ipykernel)",
   "language": "python",
   "name": "python3"
  },
  "language_info": {
   "codemirror_mode": {
    "name": "ipython",
    "version": 3
   },
   "file_extension": ".py",
   "mimetype": "text/x-python",
   "name": "python",
   "nbconvert_exporter": "python",
   "pygments_lexer": "ipython3",
   "version": "3.11.4"
  }
 },
 "nbformat": 4,
 "nbformat_minor": 5
}
