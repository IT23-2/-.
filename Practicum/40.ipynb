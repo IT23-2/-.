{
 "cells": [
  {
   "cell_type": "markdown",
   "id": "e02583ab",
   "metadata": {},
   "source": [
    "# Разработайте систему учета книг в библиотеке. Каждая книга имеет название и количество экземпляров. Реализовать структуру данных на основе двоичной кучи, которая будет поддерживать операции добавления книги и извлечения книги с наименьшим количеством экземпляров."
   ]
  },
  {
   "cell_type": "code",
   "execution_count": 2,
   "id": "ecb40fcb",
   "metadata": {},
   "outputs": [
    {
     "name": "stdout",
     "output_type": "stream",
     "text": [
      "Book2\n",
      "Book1\n",
      "Book3\n"
     ]
    }
   ],
   "source": [
    "class Book:\n",
    "    def __init__(self, name, count):\n",
    "        self.name = name\n",
    "        self.count = count\n",
    "\n",
    "#представляет собой двоичную кучу\n",
    "class Heap:\n",
    "    def __init__(self):\n",
    "        self.heap = []\n",
    "\n",
    "#Метод insert добавляет книгу в кучу и выполняет heapify-up для восстановления свойства кучи.\n",
    "    def insert(self, book):\n",
    "        self.heap.append(book)\n",
    "        self._heapify_up(len(self.heap) - 1)\n",
    "\n",
    "#извлекает книгу с наименьшим количеством экземпляров из кучи\n",
    "    def extract_min(self):\n",
    "        if len(self.heap) == 0:\n",
    "            return None\n",
    "        if len(self.heap) == 1:\n",
    "            return self.heap.pop()\n",
    "        min_book = self.heap[0]\n",
    "        self.heap[0] = self.heap.pop()\n",
    "        self._heapify_down(0)\n",
    "        return min_book\n",
    "\n",
    "    \n",
    "#сравнивает элемент с его родителем и обменивает их\n",
    "    def _heapify_up(self, index):\n",
    "        parent_index = (index - 1) // 2\n",
    "        if parent_index >= 0 and self.heap[parent_index].count > self.heap[index].count:\n",
    "            self._swap(parent_index, index)\n",
    "            self._heapify_up(parent_index)\n",
    "\n",
    "#сравнивает элемент с его левым и правым детьми и обменивает его с наименьшим из них\n",
    "    def _heapify_down(self, index):\n",
    "        left_child_index = 2 * index + 1\n",
    "        right_child_index = 2 * index + 2\n",
    "        smallest = index\n",
    "        if left_child_index < len(self.heap) and self.heap[left_child_index].count < self.heap[smallest].count:\n",
    "            smallest = left_child_index\n",
    "        if right_child_index < len(self.heap) and self.heap[right_child_index].count < self.heap[smallest].count:\n",
    "            smallest = right_child_index\n",
    "        if smallest != index:\n",
    "            self._swap(index, smallest)\n",
    "            self._heapify_down(smallest)\n",
    "\n",
    "#обменивает два элемента в куче\n",
    "    def _swap(self, i, j):\n",
    "        self.heap[i], self.heap[j] = self.heap[j], self.heap[i]\n",
    "\n",
    "# Использование\n",
    "heap = Heap()\n",
    "heap.insert(Book(\"Book1\", 5))\n",
    "heap.insert(Book(\"Book2\", 3))\n",
    "heap.insert(Book(\"Book3\", 7))\n",
    "print(heap.extract_min().name)  \n",
    "print(heap.extract_min().name)  \n",
    "print(heap.extract_min().name)  "
   ]
  },
  {
   "cell_type": "code",
   "execution_count": null,
   "id": "a0b071ae",
   "metadata": {},
   "outputs": [],
   "source": []
  }
 ],
 "metadata": {
  "kernelspec": {
   "display_name": "Python 3 (ipykernel)",
   "language": "python",
   "name": "python3"
  },
  "language_info": {
   "codemirror_mode": {
    "name": "ipython",
    "version": 3
   },
   "file_extension": ".py",
   "mimetype": "text/x-python",
   "name": "python",
   "nbconvert_exporter": "python",
   "pygments_lexer": "ipython3",
   "version": "3.10.9"
  }
 },
 "nbformat": 4,
 "nbformat_minor": 5
}
